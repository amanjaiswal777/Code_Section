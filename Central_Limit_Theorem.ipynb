{
  "nbformat": 4,
  "nbformat_minor": 0,
  "metadata": {
    "colab": {
      "name": "Central_Limit_Theorem.ipynb",
      "provenance": [],
      "collapsed_sections": [],
      "authorship_tag": "ABX9TyMbpB2idwoy8IjCgqysm4jN",
      "include_colab_link": true
    },
    "kernelspec": {
      "name": "python3",
      "display_name": "Python 3"
    },
    "language_info": {
      "name": "python"
    }
  },
  "cells": [
    {
      "cell_type": "markdown",
      "metadata": {
        "id": "view-in-github",
        "colab_type": "text"
      },
      "source": [
        "<a href=\"https://colab.research.google.com/github/amanjaiswal777/Interview_Section/blob/main/Central_Limit_Theorem.ipynb\" target=\"_parent\"><img src=\"https://colab.research.google.com/assets/colab-badge.svg\" alt=\"Open In Colab\"/></a>"
      ]
    },
    {
      "cell_type": "markdown",
      "source": [
        "# Implementation of Central limit Theorem "
      ],
      "metadata": {
        "id": "vjeUG_xFqTJG"
      }
    },
    {
      "cell_type": "code",
      "execution_count": 5,
      "metadata": {
        "colab": {
          "base_uri": "https://localhost:8080/",
          "height": 761
        },
        "id": "YqYGyVy8p1Gf",
        "outputId": "10819f39-8fa1-494f-e417-97c739276e3e"
      },
      "outputs": [
        {
          "output_type": "display_data",
          "data": {
            "text/plain": [
              "<Figure size 432x288 with 1 Axes>"
            ],
            "image/png": "[encoded data removed]"
          },
          "metadata": {
            "needs_background": "light"
          }
        },
        {
          "output_type": "display_data",
          "data": {
            "text/plain": [
              "<Figure size 432x288 with 1 Axes>"
            ],
            "image/png": "[encoded data removed]"
          },
          "metadata": {
            "needs_background": "light"
          }
        },
        {
          "output_type": "display_data",
          "data": {
            "text/plain": [
              "<Figure size 432x288 with 1 Axes>"
            ],
            "image/png": "[encoded data removed]"
          },
          "metadata": {
            "needs_background": "light"
          }
        }
      ],
      "source": [
        "# Import the necessary libraries\n",
        "import numpy as np\n",
        "import matplotlib.pyplot as plt\n",
        "\n",
        "# Generate a random sample of size n from a uniform distribution\n",
        "n1 = n = 1000\n",
        "sample1 = np.random.uniform(0,1,n1)\n",
        "\n",
        "# Sum the values in the sample\n",
        "sums1 = np.sum(sample1)\n",
        "\n",
        "# Plot the distribution of the sums\n",
        "plt.hist(sums1,bins=50)\n",
        "plt.show()\n",
        "\n",
        "# Generate a random sample size of 5000 from a uniform distribution\n",
        "n2 = 5000\n",
        "sums2 = np.zeros(n2)\n",
        "for i in range(n2):\n",
        "  sample = np.random.uniform(0,1,n)\n",
        "  sums2[i] = np.sum(sample)\n",
        "\n",
        "# Plot the distribution of the sums\n",
        "plt.hist(sums2, bins=50)\n",
        "plt.show()\n",
        "\n",
        "# Repeat the process a large number of times\n",
        "num_samples = 10000\n",
        "sums = np.zeros(num_samples)\n",
        "for i in range(num_samples):\n",
        "    sample = np.random.uniform(0,1,n)\n",
        "    sums[i] = np.sum(sample)\n",
        "\n",
        "# Plot the distribution of the sums\n",
        "plt.hist(sums,bins=50)\n",
        "plt.show()"
      ]
    },
    {
      "cell_type": "code",
      "source": [
        ""
      ],
      "metadata": {
        "id": "YPS8atoDqD9x"
      },
      "execution_count": null,
      "outputs": []
    }
  ]
}